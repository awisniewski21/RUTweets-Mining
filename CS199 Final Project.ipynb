{
 "cells": [
  {
   "cell_type": "markdown",
   "metadata": {},
   "source": [
    "#   Russian Text Mining (Добыча текста на русском)"
   ]
  },
  {
   "cell_type": "markdown",
   "metadata": {},
   "source": [
    "For my project, I chose to perform text analysis on Russian tweets that were pre-classified as having a positive or negative connotation to them. Specifically, I chose to look at the frequency of the most common words, and also the most common lemmas (roots). What I found was that positive tweets seem to talk more about today, use pleasant adjectives, and are normally talking about something funny. Negatives tweets seem to be about painful topics, like school and the future, and use a lot more swear words.\n",
    "\n",
    "In terms of future motivation, my results could be combined with the notebook we did in class to determine whether or not a tweet is spam. This could be extremely useful, especially with the current election meddling happening on social media networks. However, a different dataset would probably need to be used, as these seem to be real tweets and do not cover political topics.\n",
    "# Sources Used:\n",
    "Russian Tweets Dataset: https://www.gutenberg.org/files/100/100-0.txt             \n",
    "Russian Lemmas Dataset:  http://stimul.cognitivestudies.ru/ru_stimul/"
   ]
  },
  {
   "cell_type": "code",
   "execution_count": 1,
   "metadata": {},
   "outputs": [
    {
     "name": "stdout",
     "output_type": "stream",
     "text": [
      "Requirement already satisfied: googletrans in c:\\users\\admin\\anaconda3\\lib\\site-packages (2.4.0)\n",
      "Requirement already satisfied: requests in c:\\users\\admin\\anaconda3\\lib\\site-packages (from googletrans) (2.22.0)\n",
      "Requirement already satisfied: chardet<3.1.0,>=3.0.2 in c:\\users\\admin\\anaconda3\\lib\\site-packages (from requests->googletrans) (3.0.4)\n",
      "Requirement already satisfied: idna<2.9,>=2.5 in c:\\users\\admin\\anaconda3\\lib\\site-packages (from requests->googletrans) (2.8)\n",
      "Requirement already satisfied: certifi>=2017.4.17 in c:\\users\\admin\\anaconda3\\lib\\site-packages (from requests->googletrans) (2019.6.16)\n",
      "Requirement already satisfied: urllib3!=1.25.0,!=1.25.1,<1.26,>=1.21.1 in c:\\users\\admin\\anaconda3\\lib\\site-packages (from requests->googletrans) (1.25.7)\n"
     ]
    },
    {
     "name": "stderr",
     "output_type": "stream",
     "text": [
      "[nltk_data] Downloading package stopwords to\n",
      "[nltk_data]     C:\\Users\\Admin\\AppData\\Roaming\\nltk_data...\n",
      "[nltk_data]   Package stopwords is already up-to-date!\n"
     ]
    }
   ],
   "source": [
    "!pip install googletrans\n",
    "\n",
    "import numpy as np\n",
    "import pandas as pd\n",
    "from googletrans import Translator\n",
    "import nltk\n",
    "from nltk.corpus import stopwords\n",
    "from nltk.stem import WordNetLemmatizer\n",
    "from nltk.stem.snowball import RussianStemmer\n",
    "from nltk.tokenize import TweetTokenizer\n",
    "import matplotlib.pyplot as plt\n",
    "import matplotlib as mpl\n",
    "%matplotlib inline\n",
    "\n",
    "nltk.download('stopwords')\n",
    "\n",
    "\n",
    "# Useful Variables\n",
    "alphabet_RU = 'АаБбВвГгДдЕеЁёЖжЗзИиЙйКкЛлМмНнОоПпРрСсТтУуФфХхЦцЧчШшЩщЪъЫыЬьЭэЮюЯя'\n",
    "stopwords_RU = stopwords.words('russian')\n",
    "stemmer = RussianStemmer()\n",
    "tknzr = TweetTokenizer()\n",
    "translator = Translator()\n",
    "\n",
    "positive = True # Choose which dataset\n",
    "num_words = 25   # Choose how many words to display on the charts\n",
    "figure_size = (12,10) # How big the charts should be"
   ]
  },
  {
   "cell_type": "markdown",
   "metadata": {},
   "source": [
    "#   Load Tweets Dataset\n",
    "Source: http://study.mokoron.com/#download"
   ]
  },
  {
   "cell_type": "code",
   "execution_count": 2,
   "metadata": {},
   "outputs": [],
   "source": [
    "if (positive):\n",
    "    tweets_df = pd.read_csv('positive_UTF_clean.csv', encoding='UTF_8')\n",
    "else:\n",
    "    tweets_df = pd.read_csv('negative_UTF_clean.csv', encoding='UTF_8')"
   ]
  },
  {
   "cell_type": "markdown",
   "metadata": {},
   "source": [
    "# Tokenize a Tweet\n",
    "Break a tweet into an array of words. Remove any @mentions or symbols."
   ]
  },
  {
   "cell_type": "code",
   "execution_count": 3,
   "metadata": {},
   "outputs": [],
   "source": [
    "def tokenize_tweet(tweet, stem=False):\n",
    "    tokenized = tknzr.tokenize(tweet)\n",
    "    \n",
    "    # Remove Punctuation\n",
    "    remove_punctuation = []\n",
    "    for token in tokenized:\n",
    "        for char in token:\n",
    "            if (not char in alphabet_RU):\n",
    "                remove_punctuation.append(token)\n",
    "                \n",
    "    for token in remove_punctuation:\n",
    "        if token in tokenized:\n",
    "            tokenized.remove(token)\n",
    "    \n",
    "    # Remove Stopwords\n",
    "    remove_stopwords = []\n",
    "    for token in tokenized:\n",
    "        if token.lower() in stopwords_RU:\n",
    "            remove_stopwords.append(token)\n",
    "    \n",
    "    for token in remove_stopwords:\n",
    "        if token in tokenized:\n",
    "            tokenized.remove(token)\n",
    "    \n",
    "    # Convert to Stem and lowercase\n",
    "    if(stem):\n",
    "        for word_ix in range(len(tokenized)):\n",
    "            tokenized[word_ix] = stemmer.stem(tokenized[word_ix]).lower()\n",
    "    else:\n",
    "        for word_ix in range(len(tokenized)):\n",
    "            tokenized[word_ix] = tokenized[word_ix].lower()\n",
    "            \n",
    "    return tokenized"
   ]
  },
  {
   "cell_type": "code",
   "execution_count": 4,
   "metadata": {},
   "outputs": [
    {
     "name": "stdout",
     "output_type": "stream",
     "text": [
      "RT @StarScrim3: #RT Электрогенератор http://t.co/qjlwirfD3A изсостоек и не победим!))\n",
      "['электрогенератор', 'изсостоек', 'победим']\n",
      "['электрогенератор', 'изсостоек', 'побед']\n"
     ]
    }
   ],
   "source": [
    "# Example of Tokenizing Tweet\n",
    "print(tweets_df['Tweets'].values[35])\n",
    "print(tokenize_tweet(tweets_df['Tweets'].values[35]))\n",
    "print(tokenize_tweet(tweets_df['Tweets'].values[35], stem=True))"
   ]
  },
  {
   "cell_type": "markdown",
   "metadata": {},
   "source": [
    "# Generate Dictionary of Words and Frequencies\n",
    "Generate a dictionary containing Russian words and their associated frequency count in the tweets dataset."
   ]
  },
  {
   "cell_type": "code",
   "execution_count": 5,
   "metadata": {},
   "outputs": [],
   "source": [
    "words_dict = {}\n",
    "\n",
    "for tweet in tweets_df['Tweets'].values:\n",
    "    token = tokenize_tweet(tweet, stem=False)\n",
    "    for word in token:\n",
    "        if word in words_dict:\n",
    "            words_dict[word] += 1\n",
    "        else:\n",
    "            words_dict[word] = 1"
   ]
  },
  {
   "cell_type": "code",
   "execution_count": 6,
   "metadata": {},
   "outputs": [],
   "source": [
    "# Sort the Dictionary by Frequency in DataFrame\n",
    "words_freq = sorted( words_dict.items(),key=lambda kv: kv[ 1 ] )[ ::-1 ]\n",
    "words_freq_df = pd.DataFrame(words_freq,columns=('Word','Frequency'))"
   ]
  },
  {
   "cell_type": "markdown",
   "metadata": {},
   "source": [
    "# Generate English Translations for the Most Frequent Words\n",
    "Add a column containing the English translations for the most frequent words.\n",
    "\n",
    "Note: Google places a quota on how many translations you can request per day, so do not run this too many times! :)"
   ]
  },
  {
   "cell_type": "code",
   "execution_count": 7,
   "metadata": {},
   "outputs": [
    {
     "data": {
      "text/html": [
       "<div>\n",
       "<style scoped>\n",
       "    .dataframe tbody tr th:only-of-type {\n",
       "        vertical-align: middle;\n",
       "    }\n",
       "\n",
       "    .dataframe tbody tr th {\n",
       "        vertical-align: top;\n",
       "    }\n",
       "\n",
       "    .dataframe thead th {\n",
       "        text-align: right;\n",
       "    }\n",
       "</style>\n",
       "<table border=\"1\" class=\"dataframe\">\n",
       "  <thead>\n",
       "    <tr style=\"text-align: right;\">\n",
       "      <th></th>\n",
       "      <th>Word</th>\n",
       "      <th>Frequency</th>\n",
       "      <th>EN Translation</th>\n",
       "    </tr>\n",
       "  </thead>\n",
       "  <tbody>\n",
       "    <tr>\n",
       "      <th>0</th>\n",
       "      <td>это</td>\n",
       "      <td>10732</td>\n",
       "      <td>this is</td>\n",
       "    </tr>\n",
       "    <tr>\n",
       "      <th>1</th>\n",
       "      <td>сегодня</td>\n",
       "      <td>4468</td>\n",
       "      <td>today</td>\n",
       "    </tr>\n",
       "    <tr>\n",
       "      <th>2</th>\n",
       "      <td>тебе</td>\n",
       "      <td>3848</td>\n",
       "      <td>you</td>\n",
       "    </tr>\n",
       "    <tr>\n",
       "      <th>3</th>\n",
       "      <td>просто</td>\n",
       "      <td>3813</td>\n",
       "      <td>simply</td>\n",
       "    </tr>\n",
       "    <tr>\n",
       "      <th>4</th>\n",
       "      <td>спасибо</td>\n",
       "      <td>3656</td>\n",
       "      <td>thanks</td>\n",
       "    </tr>\n",
       "  </tbody>\n",
       "</table>\n",
       "</div>"
      ],
      "text/plain": [
       "      Word  Frequency EN Translation\n",
       "0      это      10732        this is\n",
       "1  сегодня       4468          today\n",
       "2     тебе       3848            you\n",
       "3   просто       3813         simply\n",
       "4  спасибо       3656         thanks"
      ]
     },
     "execution_count": 7,
     "metadata": {},
     "output_type": "execute_result"
    }
   ],
   "source": [
    "translations = [''] * len(words_freq)\n",
    "for i,word in enumerate(words_freq):\n",
    "    if i > num_words:\n",
    "        break\n",
    "    translations[i] = translator.translate(words_freq[i][0], src='ru', dest='en').text.lower()\n",
    "words_freq_df['EN Translation'] = translations\n",
    "\n",
    "words_freq_df.head()"
   ]
  },
  {
   "cell_type": "markdown",
   "metadata": {},
   "source": [
    "# Plot Graph of Frequency of Words"
   ]
  },
  {
   "cell_type": "code",
   "execution_count": 8,
   "metadata": {},
   "outputs": [
    {
     "data": {
      "image/png": "[encoded data removed]",
      "text/plain": [
       "<Figure size 864x720 with 1 Axes>"
      ]
     },
     "metadata": {
      "needs_background": "light"
     },
     "output_type": "display_data"
    }
   ],
   "source": [
    "colors_bar = np.array(['w','b','r'])\n",
    "colors_text = np.array(['black','b','r'])\n",
    "plt.figure(figsize=figure_size)\n",
    "bar = plt.barh(words_freq_df['Word'].values[:num_words][::-1]+' - '+words_freq_df['EN Translation'].values[:num_words][::-1],words_freq_df['Frequency'].values[:num_words][::-1],0.7)\n",
    "color = 0\n",
    "for i in reversed(range(num_words)):\n",
    "    bar[i].set_color(colors_bar[color%colors_bar.size])\n",
    "    bar[i].set_edgecolor('black')\n",
    "    bar[i].set_linewidth(1.1)\n",
    "    color += 1\n",
    "color = 0\n",
    "for i in reversed(plt.gca().get_yticklabels()):\n",
    "    i.set_color(colors_text[color%colors_text.size])\n",
    "    color += 1\n",
    "plt.xticks(rotation=90, fontsize=18)\n",
    "plt.yticks(fontsize=18)\n",
    "plt.xlabel(\"\\nFrequency\", fontsize=25)\n",
    "plt.ylabel(\"Word\\n\", fontsize=25)\n",
    "title = \"Frequency of Russian Words in \"\n",
    "if(positive):\n",
    "    title += \"Positive Tweets\\n\"\n",
    "else:\n",
    "    title += \"Negative Tweets\\n\"\n",
    "plt.title(title, fontsize=25)\n",
    "plt.show()"
   ]
  },
  {
   "cell_type": "markdown",
   "metadata": {},
   "source": [
    "# Export Data to Generate Lemmas Dataset\n",
    "Export the 10,000 most frequent words to be used to generate the lemmas dataset.\n",
    "\n",
    "Note: To get the _\"clean\"_ version of this CSV file, go to Data → From Text/CSV in Excel and select _\"65001: Unicode (UTF-8)\"_ as the _\"File Origin\"._ Make sure to save the file as _\"CSV UTF-8 (Comma delimited) (*.csv)\"._"
   ]
  },
  {
   "cell_type": "code",
   "execution_count": null,
   "metadata": {},
   "outputs": [],
   "source": [
    "if (positive):\n",
    "    words_freq_df[:10000].to_csv('positive_full_words_RAW.csv', columns=['Word'], header=False, index=False, encoding='UTF_8')\n",
    "else:\n",
    "    words_freq_df[:10000].to_csv('negative_full_words_RAW.csv', columns=['Word'], header=False, index=False, encoding='UTF_8')"
   ]
  },
  {
   "cell_type": "markdown",
   "metadata": {},
   "source": [
    "# Generate and Load Lemmas Dataset\n",
    "Upload the _\"clean\"_ dataset you created in the last cell to http://stimul.cognitivestudies.ru/ru_stimul/ under _\"Upload word forms as a list in *.txt or *.csv file (utf-8 coding)\"._ \n",
    "\n",
    "\n",
    "Select the columns: \n",
    "* Length (in characters)\n",
    "* Length (in syllables)\n",
    "* Stress position (in characters)\n",
    "* Stress position (in syllables)\n",
    "* Lemma\n",
    "</ul>\n",
    "and press <i>\"Search\".</i>\n",
    "<br/><br/>Download the result at the top of the page."
   ]
  },
  {
   "cell_type": "code",
   "execution_count": null,
   "metadata": {},
   "outputs": [],
   "source": [
    "labels = [\"Word\", \"Drop\", \"Length\", \"Syllables\", \"Lemma\", \"Stress Char Index\", \"Stress Syl Index\"]\n",
    "\n",
    "if (positive):\n",
    "    tweets_lemma_df = pd.read_csv('positive_lemma.txt', names=labels, encoding='UTF_8')\n",
    "else:\n",
    "    tweets_lemma_df = pd.read_csv('negative_lemma.txt', names=labels, encoding='UTF_8')"
   ]
  },
  {
   "cell_type": "code",
   "execution_count": null,
   "metadata": {},
   "outputs": [],
   "source": [
    "tweets_lemma_df = tweets_lemma_df.drop(\"Drop\", axis=1)[1:]\n",
    "\n",
    "# Copying 'Word' to 'Lemma' if Lemma Not Found\n",
    "tweets_lemma_df[\"Lemma\"] = tweets_lemma_df.apply(\n",
    "    lambda row: row[\"Word\"] if row[\"Lemma\"] == \"nf\" else row[\"Lemma\"],\n",
    "    axis=1\n",
    ")"
   ]
  },
  {
   "cell_type": "markdown",
   "metadata": {},
   "source": [
    "# Remove Duplicates Added from Website\n",
    "The website we used to generate the lemmas dataset sometimes adds rows based on if the words has multiple lemmas. We want to get rid of these extra rows as they will cause issues with our frequencies when we go to combine true duplicates entries (words with same lemma). "
   ]
  },
  {
   "cell_type": "code",
   "execution_count": null,
   "metadata": {},
   "outputs": [],
   "source": [
    "drop_indices = []\n",
    "prev_row = \"\"\n",
    "for index, row in tweets_lemma_df.iterrows():\n",
    "    if (prev_row == row[0]):\n",
    "        #print(index, prev_row, row[0])\n",
    "        drop_indices.append(index)\n",
    "    prev_row = row[0]\n",
    "    \n",
    "tweets_lemma_df.drop(index=tweets_lemma_df.index[drop_indices]-1, inplace=True)"
   ]
  },
  {
   "cell_type": "markdown",
   "metadata": {},
   "source": [
    "# Compute Length and Add Frequencies\n",
    "Compute the length for words the website was unable to calculate. \n",
    "<br/>Also, add the frequency column from our previous dataframe as the rows should now align."
   ]
  },
  {
   "cell_type": "code",
   "execution_count": null,
   "metadata": {},
   "outputs": [],
   "source": [
    "def length(word):\n",
    "    count = 0\n",
    "    for char in word:\n",
    "        if char in alphabet_RU:\n",
    "            count += 1\n",
    "    return count\n",
    "\n",
    "# Computing Length if Not Found\n",
    "tweets_lemma_df[\"Length\"] = tweets_lemma_df.apply(\n",
    "    lambda row: length(row[\"Word\"]) if row[\"Length\"] == \"nf\" else row[\"Length\"],\n",
    "    axis=1\n",
    ")\n",
    "\n",
    "# Add Frequencies from Tweets Dataframe\n",
    "tweets_lemma_df['Frequency'] = words_freq_df['Frequency'][:tweets_lemma_df.shape[0]].values"
   ]
  },
  {
   "cell_type": "markdown",
   "metadata": {},
   "source": [
    "# Combine Duplicate Words\n",
    "Combine rows that have the same word or the same lemma and sum the frequencies together. "
   ]
  },
  {
   "cell_type": "code",
   "execution_count": null,
   "metadata": {},
   "outputs": [],
   "source": [
    "# Combining Duplicates\n",
    "tweets_lemma_df = tweets_lemma_df.groupby(['Word']).agg({'Frequency': 'sum', labels[2]: 'first', labels[3]: 'first', labels[4]: 'first', labels[5]: 'first', labels[6]: 'first'})\n",
    "tweets_lemma_df = tweets_lemma_df.reset_index()\n",
    "tweets_lemma_df = tweets_lemma_df.groupby(['Lemma']).agg({'Frequency': 'sum', labels[0]: 'first', labels[2]: 'first', labels[3]: 'first', labels[5]: 'first', labels[6]: 'first'})\n",
    "tweets_lemma_df = tweets_lemma_df.sort_values(by=['Frequency'], ascending=False)\n",
    "tweets_lemma_df = tweets_lemma_df.reset_index()"
   ]
  },
  {
   "cell_type": "markdown",
   "metadata": {},
   "source": [
    "# Generate English Translations for the Most Frequent Words\n",
    "Add a column containing the English translations for the most frequent words.\n",
    "<br/>We must generate these again as (hopefully) our most frequent words have changed now that we have combined words with the same lemma.\n",
    "\n",
    "Note: Google places a quota on how many translations you can request per day, so do not run this too many times! :)"
   ]
  },
  {
   "cell_type": "code",
   "execution_count": null,
   "metadata": {},
   "outputs": [],
   "source": [
    "# Add Translations\n",
    "translations = [''] * tweets_lemma_df.shape[0]\n",
    "for i in range(tweets_lemma_df.shape[0]):\n",
    "    if i > num_words:\n",
    "        break\n",
    "    translations[i] = translator.translate(tweets_lemma_df[\"Lemma\"].values[i], src='ru', dest='en').text.lower()\n",
    "tweets_lemma_df['EN Translation'] = translations\n",
    "\n",
    "tweets_lemma_df = tweets_lemma_df.reindex(columns=[labels[0], labels[4], \"Frequency\", \"EN Translation\", labels[2], labels[3], labels[5], labels[6]])\n",
    "\n",
    "tweets_lemma_df.head()"
   ]
  },
  {
   "cell_type": "markdown",
   "metadata": {},
   "source": [
    "# Plot Graph of Frequency of Lemmas"
   ]
  },
  {
   "cell_type": "code",
   "execution_count": null,
   "metadata": {},
   "outputs": [],
   "source": [
    "colors_bar = np.array(['w','b','r'])\n",
    "colors_text = np.array(['black','b','r'])\n",
    "plt.figure(figsize=figure_size)\n",
    "bar = plt.barh(tweets_lemma_df['Lemma'].values[:num_words][::-1]+' - '+tweets_lemma_df['EN Translation'].values[:num_words][::-1],tweets_lemma_df['Frequency'].values[:num_words][::-1],0.7)\n",
    "color = 0\n",
    "for i in reversed(range(num_words)):\n",
    "    bar[i].set_color(colors_bar[color%colors_bar.size])\n",
    "    bar[i].set_edgecolor('black')\n",
    "    bar[i].set_linewidth(1.1)\n",
    "    color += 1\n",
    "color = 0\n",
    "for i in reversed(plt.gca().get_yticklabels()):\n",
    "    i.set_color(colors_text[color%colors_text.size])\n",
    "    color += 1\n",
    "plt.xticks(rotation=90, fontsize=18)\n",
    "plt.yticks(fontsize=18)\n",
    "plt.xlabel(\"\\nFrequency\", fontsize=25)\n",
    "plt.ylabel(\"Word\\n\", fontsize=25)\n",
    "title = \"Frequency of Russian Words in \"\n",
    "if(positive):\n",
    "    title += \"Positive Tweets (Lemmas)\\n\"\n",
    "else:\n",
    "    title += \"Negative Tweets (Lemmas)\\n\"\n",
    "plt.title(title, fontsize=25)\n",
    "plt.show()"
   ]
  },
  {
   "cell_type": "markdown",
   "metadata": {},
   "source": [
    "# Compute Various Values\n",
    "* Average Word Length: How many letters are in the average word\n",
    "* Average Word Syllables: How many syllables are in the average word\n",
    "* Average Stress Character Index: Which letter does the stress fall on in the average word (one-indexed)\n",
    "* Average Stress Syllabus Index: Which syllable does the stress fall on in the average word (one-indexed)"
   ]
  },
  {
   "cell_type": "code",
   "execution_count": null,
   "metadata": {},
   "outputs": [],
   "source": [
    "len_sum = 0\n",
    "len_total = 0\n",
    "for index, row in tweets_lemma_df.iterrows():\n",
    "    len_sum += int(row[\"Length\"]) * int(row[\"Frequency\"])\n",
    "    len_total += int(row[\"Frequency\"])\n",
    "    \n",
    "avg_len = len_sum / len_total\n",
    "print(\"Average Word Length:\",avg_len)\n",
    "\n",
    "syl_sum = 0\n",
    "syl_total = 0\n",
    "for index, row in tweets_lemma_df.iterrows():\n",
    "    if (row[\"Syllables\"].isdigit()):\n",
    "        syl_sum += int(row[\"Syllables\"]) * int(row[\"Frequency\"])\n",
    "        syl_total += int(row[\"Frequency\"])\n",
    "    \n",
    "avg_syl = syl_sum / syl_total\n",
    "print(\"Average Word Syllables:\",avg_syl)\n",
    "\n",
    "char_stress_sum = 0\n",
    "char_stress_total = 0\n",
    "for index, row in tweets_lemma_df.iterrows():\n",
    "    if (row[\"Stress Char Index\"].isdigit() and int(row[\"Stress Char Index\"]) > 0):\n",
    "        char_stress_sum += int(row[\"Stress Char Index\"]) * int(row[\"Frequency\"])\n",
    "        char_stress_total += int(row[\"Frequency\"])\n",
    "    \n",
    "avg_char_stress = char_stress_sum / char_stress_total\n",
    "print(\"Average Stress Character Index:\",avg_char_stress)\n",
    "\n",
    "syl_stress_sum = 0\n",
    "syl_stress_total = 0\n",
    "for index, row in tweets_lemma_df.iterrows():\n",
    "    if (row[\"Stress Syl Index\"].isdigit()  and int(row[\"Stress Syl Index\"]) > 0):\n",
    "        syl_stress_sum += int(row[\"Stress Syl Index\"]) * int(row[\"Frequency\"])\n",
    "        syl_stress_total += int(row[\"Frequency\"])\n",
    "    \n",
    "avg_syl_stress = syl_stress_sum / syl_stress_total\n",
    "print(\"Average Stress Syllabus Index:\",avg_syl_stress)"
   ]
  },
  {
   "cell_type": "code",
   "execution_count": null,
   "metadata": {},
   "outputs": [],
   "source": []
  }
 ],
 "metadata": {
  "kernelspec": {
   "display_name": "Python 3",
   "language": "python",
   "name": "python3"
  },
  "language_info": {
   "codemirror_mode": {
    "name": "ipython",
    "version": 3
   },
   "file_extension": ".py",
   "mimetype": "text/x-python",
   "name": "python",
   "nbconvert_exporter": "python",
   "pygments_lexer": "ipython3",
   "version": "3.7.3"
  }
 },
 "nbformat": 4,
 "nbformat_minor": 1
}
